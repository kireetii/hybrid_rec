{
 "cells": [
  {
   "cell_type": "markdown",
   "id": "47f0b7c1",
   "metadata": {
    "papermill": {
     "duration": 0.012064,
     "end_time": "2023-10-19T16:37:45.689840",
     "exception": false,
     "start_time": "2023-10-19T16:37:45.677776",
     "status": "completed"
    },
    "tags": []
   },
   "source": [
    "# **Importing libraries**"
   ]
  },
  {
   "cell_type": "code",
   "execution_count": 1,
   "id": "8a3953b8",
   "metadata": {
    "execution": {
     "iopub.execute_input": "2023-10-19T16:37:45.721877Z",
     "iopub.status.busy": "2023-10-19T16:37:45.721142Z",
     "iopub.status.idle": "2023-10-19T16:37:47.708168Z",
     "shell.execute_reply": "2023-10-19T16:37:47.706639Z"
    },
    "papermill": {
     "duration": 2.000151,
     "end_time": "2023-10-19T16:37:47.710586",
     "exception": false,
     "start_time": "2023-10-19T16:37:45.710435",
     "status": "completed"
    },
    "tags": []
   },
   "outputs": [],
   "source": [
    "import numpy as np\n",
    "import pandas as pd\n",
    "from sklearn.metrics.pairwise import cosine_similarity"
   ]
  },
  {
   "cell_type": "markdown",
   "id": "560d8322",
   "metadata": {
    "papermill": {
     "duration": 0.008983,
     "end_time": "2023-10-19T16:37:47.729141",
     "exception": false,
     "start_time": "2023-10-19T16:37:47.720158",
     "status": "completed"
    },
    "tags": []
   },
   "source": [
    "# **Reading the dataset**"
   ]
  },
  {
   "cell_type": "code",
   "execution_count": 2,
   "id": "d733ad8c",
   "metadata": {
    "execution": {
     "iopub.execute_input": "2023-10-19T16:37:47.752284Z",
     "iopub.status.busy": "2023-10-19T16:37:47.751763Z",
     "iopub.status.idle": "2023-10-19T16:37:47.763367Z",
     "shell.execute_reply": "2023-10-19T16:37:47.762059Z"
    },
    "papermill": {
     "duration": 0.025207,
     "end_time": "2023-10-19T16:37:47.765503",
     "exception": false,
     "start_time": "2023-10-19T16:37:47.740296",
     "status": "completed"
    },
    "tags": []
   },
   "outputs": [
    {
     "name": "stdout",
     "output_type": "stream",
     "text": [
      "/kaggle/input/amazon-data/Amazon_data.csv\n"
     ]
    }
   ],
   "source": [
    "import os\n",
    "for dirname, _, filenames in os.walk('/kaggle/input'):\n",
    "    for filename in filenames:\n",
    "        print(os.path.join(dirname, filename))"
   ]
  },
  {
   "cell_type": "code",
   "execution_count": 3,
   "id": "46a09374",
   "metadata": {
    "execution": {
     "iopub.execute_input": "2023-10-19T16:37:47.787203Z",
     "iopub.status.busy": "2023-10-19T16:37:47.786396Z",
     "iopub.status.idle": "2023-10-19T16:37:48.208277Z",
     "shell.execute_reply": "2023-10-19T16:37:48.207068Z"
    },
    "papermill": {
     "duration": 0.435827,
     "end_time": "2023-10-19T16:37:48.210919",
     "exception": false,
     "start_time": "2023-10-19T16:37:47.775092",
     "status": "completed"
    },
    "tags": []
   },
   "outputs": [
    {
     "data": {
      "text/html": [
       "<div>\n",
       "<style scoped>\n",
       "    .dataframe tbody tr th:only-of-type {\n",
       "        vertical-align: middle;\n",
       "    }\n",
       "\n",
       "    .dataframe tbody tr th {\n",
       "        vertical-align: top;\n",
       "    }\n",
       "\n",
       "    .dataframe thead th {\n",
       "        text-align: right;\n",
       "    }\n",
       "</style>\n",
       "<table border=\"1\" class=\"dataframe\">\n",
       "  <thead>\n",
       "    <tr style=\"text-align: right;\">\n",
       "      <th></th>\n",
       "      <th>item_id</th>\n",
       "      <th>title</th>\n",
       "      <th>brand</th>\n",
       "      <th>user_id</th>\n",
       "      <th>rating</th>\n",
       "      <th>timestamp</th>\n",
       "      <th>sub_cat</th>\n",
       "      <th>main_cat</th>\n",
       "    </tr>\n",
       "  </thead>\n",
       "  <tbody>\n",
       "    <tr>\n",
       "      <th>0</th>\n",
       "      <td>B00ENFVJJO</td>\n",
       "      <td>PowerA DualShock 4 Charging Station for PlaySt...</td>\n",
       "      <td>by\\n    \\n    PowerA</td>\n",
       "      <td>A30E7ZUWMO2E8V</td>\n",
       "      <td>5.0</td>\n",
       "      <td>01 5, 2017</td>\n",
       "      <td>Video_Games</td>\n",
       "      <td>Electronics and Technology</td>\n",
       "    </tr>\n",
       "    <tr>\n",
       "      <th>1</th>\n",
       "      <td>B00AEM2EGW</td>\n",
       "      <td>JE206 Men Women Faux Spinal Gemstone Ring, Sil...</td>\n",
       "      <td>Quality Brand</td>\n",
       "      <td>A4FQC6UQO6W84</td>\n",
       "      <td>5.0</td>\n",
       "      <td>09 20, 2013</td>\n",
       "      <td>All_Beauty</td>\n",
       "      <td>Beauty and Fashion</td>\n",
       "    </tr>\n",
       "    <tr>\n",
       "      <th>2</th>\n",
       "      <td>B006GHA8EE</td>\n",
       "      <td>The Witcher 2: Assassins Of Kings Enhanced Edi...</td>\n",
       "      <td>by\\n    \\n    WB Games</td>\n",
       "      <td>A3GPR3LKLWHSXS</td>\n",
       "      <td>2.0</td>\n",
       "      <td>01 21, 2014</td>\n",
       "      <td>Video_Games</td>\n",
       "      <td>Electronics and Technology</td>\n",
       "    </tr>\n",
       "    <tr>\n",
       "      <th>3</th>\n",
       "      <td>B0001HAI8G</td>\n",
       "      <td>MVP Baseball 2004 - Gamecube</td>\n",
       "      <td>by\\n    \\n    Electronic Arts</td>\n",
       "      <td>A1PQNBC3IG5DWD</td>\n",
       "      <td>1.0</td>\n",
       "      <td>08 23, 2015</td>\n",
       "      <td>Video_Games</td>\n",
       "      <td>Electronics and Technology</td>\n",
       "    </tr>\n",
       "    <tr>\n",
       "      <th>4</th>\n",
       "      <td>B000CBCVFE</td>\n",
       "      <td>Resident Evil Deadly Silence - Nintendo DS</td>\n",
       "      <td>by\\n    \\n    Capcom</td>\n",
       "      <td>A3FJKFJ61BU32J</td>\n",
       "      <td>5.0</td>\n",
       "      <td>08 17, 2017</td>\n",
       "      <td>Video_Games</td>\n",
       "      <td>Electronics and Technology</td>\n",
       "    </tr>\n",
       "  </tbody>\n",
       "</table>\n",
       "</div>"
      ],
      "text/plain": [
       "      item_id                                              title  \\\n",
       "0  B00ENFVJJO  PowerA DualShock 4 Charging Station for PlaySt...   \n",
       "1  B00AEM2EGW  JE206 Men Women Faux Spinal Gemstone Ring, Sil...   \n",
       "2  B006GHA8EE  The Witcher 2: Assassins Of Kings Enhanced Edi...   \n",
       "3  B0001HAI8G                       MVP Baseball 2004 - Gamecube   \n",
       "4  B000CBCVFE         Resident Evil Deadly Silence - Nintendo DS   \n",
       "\n",
       "                           brand         user_id  rating    timestamp  \\\n",
       "0           by\\n    \\n    PowerA  A30E7ZUWMO2E8V     5.0   01 5, 2017   \n",
       "1                  Quality Brand   A4FQC6UQO6W84     5.0  09 20, 2013   \n",
       "2         by\\n    \\n    WB Games  A3GPR3LKLWHSXS     2.0  01 21, 2014   \n",
       "3  by\\n    \\n    Electronic Arts  A1PQNBC3IG5DWD     1.0  08 23, 2015   \n",
       "4           by\\n    \\n    Capcom  A3FJKFJ61BU32J     5.0  08 17, 2017   \n",
       "\n",
       "       sub_cat                    main_cat  \n",
       "0  Video_Games  Electronics and Technology  \n",
       "1   All_Beauty          Beauty and Fashion  \n",
       "2  Video_Games  Electronics and Technology  \n",
       "3  Video_Games  Electronics and Technology  \n",
       "4  Video_Games  Electronics and Technology  "
      ]
     },
     "execution_count": 3,
     "metadata": {},
     "output_type": "execute_result"
    }
   ],
   "source": [
    "df = pd.read_csv('/kaggle/input/amazon-data/Amazon_data.csv')\n",
    "df.head()"
   ]
  },
  {
   "cell_type": "markdown",
   "id": "31069ecb",
   "metadata": {
    "papermill": {
     "duration": 0.009881,
     "end_time": "2023-10-19T16:37:48.230542",
     "exception": false,
     "start_time": "2023-10-19T16:37:48.220661",
     "status": "completed"
    },
    "tags": []
   },
   "source": [
    "# **Data pre-processing**"
   ]
  },
  {
   "cell_type": "code",
   "execution_count": 4,
   "id": "62da3115",
   "metadata": {
    "execution": {
     "iopub.execute_input": "2023-10-19T16:37:48.251453Z",
     "iopub.status.busy": "2023-10-19T16:37:48.251051Z",
     "iopub.status.idle": "2023-10-19T16:37:48.299494Z",
     "shell.execute_reply": "2023-10-19T16:37:48.298125Z"
    },
    "papermill": {
     "duration": 0.06178,
     "end_time": "2023-10-19T16:37:48.301996",
     "exception": false,
     "start_time": "2023-10-19T16:37:48.240216",
     "status": "completed"
    },
    "tags": []
   },
   "outputs": [
    {
     "name": "stdout",
     "output_type": "stream",
     "text": [
      "<class 'pandas.core.frame.DataFrame'>\n",
      "RangeIndex: 50000 entries, 0 to 49999\n",
      "Data columns (total 8 columns):\n",
      " #   Column     Non-Null Count  Dtype  \n",
      "---  ------     --------------  -----  \n",
      " 0   item_id    50000 non-null  object \n",
      " 1   title      49856 non-null  object \n",
      " 2   brand      46137 non-null  object \n",
      " 3   user_id    50000 non-null  object \n",
      " 4   rating     50000 non-null  float64\n",
      " 5   timestamp  50000 non-null  object \n",
      " 6   sub_cat    50000 non-null  object \n",
      " 7   main_cat   50000 non-null  object \n",
      "dtypes: float64(1), object(7)\n",
      "memory usage: 3.1+ MB\n"
     ]
    }
   ],
   "source": [
    "df.info()"
   ]
  },
  {
   "cell_type": "code",
   "execution_count": 5,
   "id": "083499ae",
   "metadata": {
    "execution": {
     "iopub.execute_input": "2023-10-19T16:37:48.323534Z",
     "iopub.status.busy": "2023-10-19T16:37:48.323150Z",
     "iopub.status.idle": "2023-10-19T16:37:48.351149Z",
     "shell.execute_reply": "2023-10-19T16:37:48.350333Z"
    },
    "papermill": {
     "duration": 0.041127,
     "end_time": "2023-10-19T16:37:48.353335",
     "exception": false,
     "start_time": "2023-10-19T16:37:48.312208",
     "status": "completed"
    },
    "tags": []
   },
   "outputs": [
    {
     "data": {
      "text/plain": [
       "item_id         0\n",
       "title         144\n",
       "brand        3863\n",
       "user_id         0\n",
       "rating          0\n",
       "timestamp       0\n",
       "sub_cat         0\n",
       "main_cat        0\n",
       "dtype: int64"
      ]
     },
     "execution_count": 5,
     "metadata": {},
     "output_type": "execute_result"
    }
   ],
   "source": [
    "df.isna().sum()"
   ]
  },
  {
   "cell_type": "code",
   "execution_count": 6,
   "id": "de27dbe4",
   "metadata": {
    "execution": {
     "iopub.execute_input": "2023-10-19T16:37:48.374780Z",
     "iopub.status.busy": "2023-10-19T16:37:48.374404Z",
     "iopub.status.idle": "2023-10-19T16:37:48.464268Z",
     "shell.execute_reply": "2023-10-19T16:37:48.463193Z"
    },
    "papermill": {
     "duration": 0.10361,
     "end_time": "2023-10-19T16:37:48.466852",
     "exception": false,
     "start_time": "2023-10-19T16:37:48.363242",
     "status": "completed"
    },
    "tags": []
   },
   "outputs": [],
   "source": [
    "df = df.drop_duplicates()\n",
    "df = df[df['brand'].notna()]\n",
    "df.drop('timestamp', axis='columns', inplace=True)\n",
    "df.drop('brand', axis='columns', inplace=True)\n",
    "df.drop('sub_cat', axis='columns', inplace=True)\n",
    "df.drop('main_cat', axis='columns', inplace=True)\n",
    "df.drop('item_id', axis='columns', inplace=True)"
   ]
  },
  {
   "cell_type": "code",
   "execution_count": 7,
   "id": "1291e45f",
   "metadata": {
    "execution": {
     "iopub.execute_input": "2023-10-19T16:37:48.489249Z",
     "iopub.status.busy": "2023-10-19T16:37:48.488883Z",
     "iopub.status.idle": "2023-10-19T16:37:48.503783Z",
     "shell.execute_reply": "2023-10-19T16:37:48.502564Z"
    },
    "papermill": {
     "duration": 0.028171,
     "end_time": "2023-10-19T16:37:48.506077",
     "exception": false,
     "start_time": "2023-10-19T16:37:48.477906",
     "status": "completed"
    },
    "tags": []
   },
   "outputs": [
    {
     "data": {
      "text/plain": [
       "title      0\n",
       "user_id    0\n",
       "rating     0\n",
       "dtype: int64"
      ]
     },
     "execution_count": 7,
     "metadata": {},
     "output_type": "execute_result"
    }
   ],
   "source": [
    "df.isna().sum()"
   ]
  },
  {
   "cell_type": "code",
   "execution_count": 8,
   "id": "78cf3e56",
   "metadata": {
    "execution": {
     "iopub.execute_input": "2023-10-19T16:37:48.527752Z",
     "iopub.status.busy": "2023-10-19T16:37:48.527405Z",
     "iopub.status.idle": "2023-10-19T16:37:48.533987Z",
     "shell.execute_reply": "2023-10-19T16:37:48.532633Z"
    },
    "papermill": {
     "duration": 0.020106,
     "end_time": "2023-10-19T16:37:48.536342",
     "exception": false,
     "start_time": "2023-10-19T16:37:48.516236",
     "status": "completed"
    },
    "tags": []
   },
   "outputs": [
    {
     "data": {
      "text/plain": [
       "(46095, 3)"
      ]
     },
     "execution_count": 8,
     "metadata": {},
     "output_type": "execute_result"
    }
   ],
   "source": [
    "df.shape"
   ]
  },
  {
   "cell_type": "code",
   "execution_count": 9,
   "id": "4e2658b3",
   "metadata": {
    "execution": {
     "iopub.execute_input": "2023-10-19T16:37:48.559192Z",
     "iopub.status.busy": "2023-10-19T16:37:48.558832Z",
     "iopub.status.idle": "2023-10-19T16:37:48.584892Z",
     "shell.execute_reply": "2023-10-19T16:37:48.583741Z"
    },
    "papermill": {
     "duration": 0.04034,
     "end_time": "2023-10-19T16:37:48.587283",
     "exception": false,
     "start_time": "2023-10-19T16:37:48.546943",
     "status": "completed"
    },
    "tags": []
   },
   "outputs": [
    {
     "name": "stdout",
     "output_type": "stream",
     "text": [
      "<class 'pandas.core.frame.DataFrame'>\n",
      "Index: 46095 entries, 0 to 49998\n",
      "Data columns (total 3 columns):\n",
      " #   Column   Non-Null Count  Dtype  \n",
      "---  ------   --------------  -----  \n",
      " 0   title    46095 non-null  string \n",
      " 1   user_id  46095 non-null  string \n",
      " 2   rating   46095 non-null  float64\n",
      "dtypes: float64(1), string(2)\n",
      "memory usage: 1.4 MB\n"
     ]
    }
   ],
   "source": [
    "df['title'] = df['title'].astype('string')\n",
    "df['user_id'] = df['user_id'].astype('string')\n",
    "df.info()"
   ]
  },
  {
   "cell_type": "code",
   "execution_count": 10,
   "id": "146f8392",
   "metadata": {
    "execution": {
     "iopub.execute_input": "2023-10-19T16:37:48.674744Z",
     "iopub.status.busy": "2023-10-19T16:37:48.674219Z",
     "iopub.status.idle": "2023-10-19T16:37:48.721526Z",
     "shell.execute_reply": "2023-10-19T16:37:48.720164Z"
    },
    "papermill": {
     "duration": 0.062188,
     "end_time": "2023-10-19T16:37:48.724154",
     "exception": false,
     "start_time": "2023-10-19T16:37:48.661966",
     "status": "completed"
    },
    "tags": []
   },
   "outputs": [],
   "source": [
    "# converting item id's to unique integer id's\n",
    "def generate_id(s):\n",
    "    return abs(hash(s)) % (10 ** 10)\n",
    "\n",
    "# df.loc[:, ('item_id')] = df['item_id'].apply(generate_id)\n",
    "df['item_id'] = df['title'].apply(generate_id)\n",
    "df = df.iloc[:-1, :]"
   ]
  },
  {
   "cell_type": "code",
   "execution_count": 11,
   "id": "338f9b81",
   "metadata": {
    "execution": {
     "iopub.execute_input": "2023-10-19T16:37:48.747797Z",
     "iopub.status.busy": "2023-10-19T16:37:48.747433Z",
     "iopub.status.idle": "2023-10-19T16:37:48.761498Z",
     "shell.execute_reply": "2023-10-19T16:37:48.760725Z"
    },
    "papermill": {
     "duration": 0.028564,
     "end_time": "2023-10-19T16:37:48.763573",
     "exception": false,
     "start_time": "2023-10-19T16:37:48.735009",
     "status": "completed"
    },
    "tags": []
   },
   "outputs": [
    {
     "data": {
      "text/html": [
       "<div>\n",
       "<style scoped>\n",
       "    .dataframe tbody tr th:only-of-type {\n",
       "        vertical-align: middle;\n",
       "    }\n",
       "\n",
       "    .dataframe tbody tr th {\n",
       "        vertical-align: top;\n",
       "    }\n",
       "\n",
       "    .dataframe thead th {\n",
       "        text-align: right;\n",
       "    }\n",
       "</style>\n",
       "<table border=\"1\" class=\"dataframe\">\n",
       "  <thead>\n",
       "    <tr style=\"text-align: right;\">\n",
       "      <th></th>\n",
       "      <th>title</th>\n",
       "      <th>user_id</th>\n",
       "      <th>rating</th>\n",
       "      <th>item_id</th>\n",
       "    </tr>\n",
       "  </thead>\n",
       "  <tbody>\n",
       "    <tr>\n",
       "      <th>0</th>\n",
       "      <td>PowerA DualShock 4 Charging Station for PlaySt...</td>\n",
       "      <td>A30E7ZUWMO2E8V</td>\n",
       "      <td>5.0</td>\n",
       "      <td>9684468121</td>\n",
       "    </tr>\n",
       "    <tr>\n",
       "      <th>1</th>\n",
       "      <td>JE206 Men Women Faux Spinal Gemstone Ring, Sil...</td>\n",
       "      <td>A4FQC6UQO6W84</td>\n",
       "      <td>5.0</td>\n",
       "      <td>1409967169</td>\n",
       "    </tr>\n",
       "    <tr>\n",
       "      <th>2</th>\n",
       "      <td>The Witcher 2: Assassins Of Kings Enhanced Edi...</td>\n",
       "      <td>A3GPR3LKLWHSXS</td>\n",
       "      <td>2.0</td>\n",
       "      <td>8340696149</td>\n",
       "    </tr>\n",
       "    <tr>\n",
       "      <th>3</th>\n",
       "      <td>MVP Baseball 2004 - Gamecube</td>\n",
       "      <td>A1PQNBC3IG5DWD</td>\n",
       "      <td>1.0</td>\n",
       "      <td>9569002861</td>\n",
       "    </tr>\n",
       "    <tr>\n",
       "      <th>4</th>\n",
       "      <td>Resident Evil Deadly Silence - Nintendo DS</td>\n",
       "      <td>A3FJKFJ61BU32J</td>\n",
       "      <td>5.0</td>\n",
       "      <td>2585246229</td>\n",
       "    </tr>\n",
       "    <tr>\n",
       "      <th>...</th>\n",
       "      <td>...</td>\n",
       "      <td>...</td>\n",
       "      <td>...</td>\n",
       "      <td>...</td>\n",
       "    </tr>\n",
       "    <tr>\n",
       "      <th>49992</th>\n",
       "      <td>History Channel: Civil War: A Nation Divided -...</td>\n",
       "      <td>AV0T8159EFP0Q</td>\n",
       "      <td>3.0</td>\n",
       "      <td>9802589503</td>\n",
       "    </tr>\n",
       "    <tr>\n",
       "      <th>49993</th>\n",
       "      <td>Amazon Music [PC] [Download]</td>\n",
       "      <td>A2D239DN8M1NB8</td>\n",
       "      <td>1.0</td>\n",
       "      <td>3518628090</td>\n",
       "    </tr>\n",
       "    <tr>\n",
       "      <th>49994</th>\n",
       "      <td>PaintShop Pro X5 Ultimate [Old Version]</td>\n",
       "      <td>A26TNHDJOJDLF0</td>\n",
       "      <td>5.0</td>\n",
       "      <td>9376315784</td>\n",
       "    </tr>\n",
       "    <tr>\n",
       "      <th>49995</th>\n",
       "      <td>HORI Stereo Chat Headset 4 for PlayStation 4</td>\n",
       "      <td>AO3VLMCH15G2V</td>\n",
       "      <td>4.0</td>\n",
       "      <td>4664981332</td>\n",
       "    </tr>\n",
       "    <tr>\n",
       "      <th>49997</th>\n",
       "      <td>VersionTECH. G2000 Stereo Gaming Headset for X...</td>\n",
       "      <td>ABW332AH8Z5CX</td>\n",
       "      <td>5.0</td>\n",
       "      <td>6146506057</td>\n",
       "    </tr>\n",
       "  </tbody>\n",
       "</table>\n",
       "<p>46094 rows × 4 columns</p>\n",
       "</div>"
      ],
      "text/plain": [
       "                                                   title         user_id  \\\n",
       "0      PowerA DualShock 4 Charging Station for PlaySt...  A30E7ZUWMO2E8V   \n",
       "1      JE206 Men Women Faux Spinal Gemstone Ring, Sil...   A4FQC6UQO6W84   \n",
       "2      The Witcher 2: Assassins Of Kings Enhanced Edi...  A3GPR3LKLWHSXS   \n",
       "3                           MVP Baseball 2004 - Gamecube  A1PQNBC3IG5DWD   \n",
       "4             Resident Evil Deadly Silence - Nintendo DS  A3FJKFJ61BU32J   \n",
       "...                                                  ...             ...   \n",
       "49992  History Channel: Civil War: A Nation Divided -...   AV0T8159EFP0Q   \n",
       "49993                       Amazon Music [PC] [Download]  A2D239DN8M1NB8   \n",
       "49994            PaintShop Pro X5 Ultimate [Old Version]  A26TNHDJOJDLF0   \n",
       "49995       HORI Stereo Chat Headset 4 for PlayStation 4   AO3VLMCH15G2V   \n",
       "49997  VersionTECH. G2000 Stereo Gaming Headset for X...   ABW332AH8Z5CX   \n",
       "\n",
       "       rating     item_id  \n",
       "0         5.0  9684468121  \n",
       "1         5.0  1409967169  \n",
       "2         2.0  8340696149  \n",
       "3         1.0  9569002861  \n",
       "4         5.0  2585246229  \n",
       "...       ...         ...  \n",
       "49992     3.0  9802589503  \n",
       "49993     1.0  3518628090  \n",
       "49994     5.0  9376315784  \n",
       "49995     4.0  4664981332  \n",
       "49997     5.0  6146506057  \n",
       "\n",
       "[46094 rows x 4 columns]"
      ]
     },
     "execution_count": 11,
     "metadata": {},
     "output_type": "execute_result"
    }
   ],
   "source": [
    "df"
   ]
  },
  {
   "cell_type": "code",
   "execution_count": 12,
   "id": "efcd9eb3",
   "metadata": {
    "execution": {
     "iopub.execute_input": "2023-10-19T16:37:48.786727Z",
     "iopub.status.busy": "2023-10-19T16:37:48.786196Z",
     "iopub.status.idle": "2023-10-19T16:37:48.793686Z",
     "shell.execute_reply": "2023-10-19T16:37:48.792340Z"
    },
    "papermill": {
     "duration": 0.02172,
     "end_time": "2023-10-19T16:37:48.796028",
     "exception": false,
     "start_time": "2023-10-19T16:37:48.774308",
     "status": "completed"
    },
    "tags": []
   },
   "outputs": [
    {
     "data": {
      "text/plain": [
       "(21159,)"
      ]
     },
     "execution_count": 12,
     "metadata": {},
     "output_type": "execute_result"
    }
   ],
   "source": [
    "df['item_id'].unique().shape"
   ]
  },
  {
   "cell_type": "code",
   "execution_count": 13,
   "id": "9de0c730",
   "metadata": {
    "execution": {
     "iopub.execute_input": "2023-10-19T16:37:48.819962Z",
     "iopub.status.busy": "2023-10-19T16:37:48.819357Z",
     "iopub.status.idle": "2023-10-19T16:37:48.841892Z",
     "shell.execute_reply": "2023-10-19T16:37:48.840695Z"
    },
    "papermill": {
     "duration": 0.037222,
     "end_time": "2023-10-19T16:37:48.844094",
     "exception": false,
     "start_time": "2023-10-19T16:37:48.806872",
     "status": "completed"
    },
    "tags": []
   },
   "outputs": [
    {
     "data": {
      "text/plain": [
       "(21159,)"
      ]
     },
     "execution_count": 13,
     "metadata": {},
     "output_type": "execute_result"
    }
   ],
   "source": [
    "df['title'].unique().shape"
   ]
  },
  {
   "cell_type": "markdown",
   "id": "c441917c",
   "metadata": {
    "papermill": {
     "duration": 0.010286,
     "end_time": "2023-10-19T16:37:48.864956",
     "exception": false,
     "start_time": "2023-10-19T16:37:48.854670",
     "status": "completed"
    },
    "tags": []
   },
   "source": [
    "# **Popularity Based Recommender**"
   ]
  },
  {
   "cell_type": "code",
   "execution_count": 14,
   "id": "5735c7f6",
   "metadata": {
    "execution": {
     "iopub.execute_input": "2023-10-19T16:37:48.888250Z",
     "iopub.status.busy": "2023-10-19T16:37:48.887677Z",
     "iopub.status.idle": "2023-10-19T16:37:48.906210Z",
     "shell.execute_reply": "2023-10-19T16:37:48.905413Z"
    },
    "papermill": {
     "duration": 0.032765,
     "end_time": "2023-10-19T16:37:48.908464",
     "exception": false,
     "start_time": "2023-10-19T16:37:48.875699",
     "status": "completed"
    },
    "tags": []
   },
   "outputs": [],
   "source": [
    "item_ratings = df[['item_id', 'rating']]\n",
    "item_ratings = item_ratings.groupby('item_id').mean()"
   ]
  },
  {
   "cell_type": "code",
   "execution_count": 15,
   "id": "052571c2",
   "metadata": {
    "execution": {
     "iopub.execute_input": "2023-10-19T16:37:48.931795Z",
     "iopub.status.busy": "2023-10-19T16:37:48.931194Z",
     "iopub.status.idle": "2023-10-19T16:37:48.943866Z",
     "shell.execute_reply": "2023-10-19T16:37:48.942694Z"
    },
    "papermill": {
     "duration": 0.026855,
     "end_time": "2023-10-19T16:37:48.945975",
     "exception": false,
     "start_time": "2023-10-19T16:37:48.919120",
     "status": "completed"
    },
    "tags": []
   },
   "outputs": [
    {
     "data": {
      "text/html": [
       "<div>\n",
       "<style scoped>\n",
       "    .dataframe tbody tr th:only-of-type {\n",
       "        vertical-align: middle;\n",
       "    }\n",
       "\n",
       "    .dataframe tbody tr th {\n",
       "        vertical-align: top;\n",
       "    }\n",
       "\n",
       "    .dataframe thead th {\n",
       "        text-align: right;\n",
       "    }\n",
       "</style>\n",
       "<table border=\"1\" class=\"dataframe\">\n",
       "  <thead>\n",
       "    <tr style=\"text-align: right;\">\n",
       "      <th></th>\n",
       "      <th>rating</th>\n",
       "    </tr>\n",
       "    <tr>\n",
       "      <th>item_id</th>\n",
       "      <th></th>\n",
       "    </tr>\n",
       "  </thead>\n",
       "  <tbody>\n",
       "    <tr>\n",
       "      <th>4980917055</th>\n",
       "      <td>5.0</td>\n",
       "    </tr>\n",
       "    <tr>\n",
       "      <th>5273835289</th>\n",
       "      <td>5.0</td>\n",
       "    </tr>\n",
       "    <tr>\n",
       "      <th>5302768214</th>\n",
       "      <td>5.0</td>\n",
       "    </tr>\n",
       "    <tr>\n",
       "      <th>5304753702</th>\n",
       "      <td>5.0</td>\n",
       "    </tr>\n",
       "    <tr>\n",
       "      <th>5306823579</th>\n",
       "      <td>5.0</td>\n",
       "    </tr>\n",
       "  </tbody>\n",
       "</table>\n",
       "</div>"
      ],
      "text/plain": [
       "            rating\n",
       "item_id           \n",
       "4980917055     5.0\n",
       "5273835289     5.0\n",
       "5302768214     5.0\n",
       "5304753702     5.0\n",
       "5306823579     5.0"
      ]
     },
     "execution_count": 15,
     "metadata": {},
     "output_type": "execute_result"
    }
   ],
   "source": [
    "item_ratings.sort_values(by='rating', ascending=False).head(5)"
   ]
  },
  {
   "cell_type": "code",
   "execution_count": 16,
   "id": "d8cd8d00",
   "metadata": {
    "execution": {
     "iopub.execute_input": "2023-10-19T16:37:48.971080Z",
     "iopub.status.busy": "2023-10-19T16:37:48.970427Z",
     "iopub.status.idle": "2023-10-19T16:37:48.976800Z",
     "shell.execute_reply": "2023-10-19T16:37:48.975529Z"
    },
    "papermill": {
     "duration": 0.02228,
     "end_time": "2023-10-19T16:37:48.979239",
     "exception": false,
     "start_time": "2023-10-19T16:37:48.956959",
     "status": "completed"
    },
    "tags": []
   },
   "outputs": [],
   "source": [
    "item_ratings['item_id'] = item_ratings.index\n",
    "item_ratings = item_ratings.reset_index(drop=True)"
   ]
  },
  {
   "cell_type": "markdown",
   "id": "f12ab641",
   "metadata": {
    "papermill": {
     "duration": 0.012572,
     "end_time": "2023-10-19T16:37:49.003296",
     "exception": false,
     "start_time": "2023-10-19T16:37:48.990724",
     "status": "completed"
    },
    "tags": []
   },
   "source": [
    "# **Collaborative Filtering**"
   ]
  },
  {
   "cell_type": "code",
   "execution_count": 17,
   "id": "902c66d4",
   "metadata": {
    "execution": {
     "iopub.execute_input": "2023-10-19T16:37:49.027212Z",
     "iopub.status.busy": "2023-10-19T16:37:49.026784Z",
     "iopub.status.idle": "2023-10-19T16:37:49.094593Z",
     "shell.execute_reply": "2023-10-19T16:37:49.093534Z"
    },
    "papermill": {
     "duration": 0.082464,
     "end_time": "2023-10-19T16:37:49.097058",
     "exception": false,
     "start_time": "2023-10-19T16:37:49.014594",
     "status": "completed"
    },
    "tags": []
   },
   "outputs": [],
   "source": [
    "from surprise import Dataset, Reader\n",
    "from surprise.model_selection import train_test_split\n",
    "from surprise import SVD"
   ]
  },
  {
   "cell_type": "code",
   "execution_count": 18,
   "id": "39a4c93c",
   "metadata": {
    "execution": {
     "iopub.execute_input": "2023-10-19T16:37:49.121344Z",
     "iopub.status.busy": "2023-10-19T16:37:49.120430Z",
     "iopub.status.idle": "2023-10-19T16:37:49.471748Z",
     "shell.execute_reply": "2023-10-19T16:37:49.469959Z"
    },
    "papermill": {
     "duration": 0.366329,
     "end_time": "2023-10-19T16:37:49.474730",
     "exception": false,
     "start_time": "2023-10-19T16:37:49.108401",
     "status": "completed"
    },
    "tags": []
   },
   "outputs": [],
   "source": [
    "reader = Reader(line_format = 'user item rating', rating_scale=(0,5))\n",
    "data = Dataset.load_from_df(df[['user_id', 'item_id', 'rating']], reader)\n",
    "trainset, testset = train_test_split(data, test_size=0.2, random_state=42)"
   ]
  },
  {
   "cell_type": "code",
   "execution_count": 19,
   "id": "a4d17f8f",
   "metadata": {
    "execution": {
     "iopub.execute_input": "2023-10-19T16:37:49.499457Z",
     "iopub.status.busy": "2023-10-19T16:37:49.498778Z",
     "iopub.status.idle": "2023-10-19T16:37:50.393599Z",
     "shell.execute_reply": "2023-10-19T16:37:50.392641Z"
    },
    "papermill": {
     "duration": 0.910106,
     "end_time": "2023-10-19T16:37:50.395936",
     "exception": false,
     "start_time": "2023-10-19T16:37:49.485830",
     "status": "completed"
    },
    "tags": []
   },
   "outputs": [
    {
     "data": {
      "text/plain": [
       "<surprise.prediction_algorithms.matrix_factorization.SVD at 0x7ed971662ce0>"
      ]
     },
     "execution_count": 19,
     "metadata": {},
     "output_type": "execute_result"
    }
   ],
   "source": [
    "model = SVD()\n",
    "model.fit(trainset)"
   ]
  },
  {
   "cell_type": "markdown",
   "id": "54262e25",
   "metadata": {
    "papermill": {
     "duration": 0.010567,
     "end_time": "2023-10-19T16:37:50.417459",
     "exception": false,
     "start_time": "2023-10-19T16:37:50.406892",
     "status": "completed"
    },
    "tags": []
   },
   "source": [
    "**Evaluating the model**"
   ]
  },
  {
   "cell_type": "code",
   "execution_count": 20,
   "id": "043fb908",
   "metadata": {
    "execution": {
     "iopub.execute_input": "2023-10-19T16:37:50.441745Z",
     "iopub.status.busy": "2023-10-19T16:37:50.440922Z",
     "iopub.status.idle": "2023-10-19T16:37:50.518304Z",
     "shell.execute_reply": "2023-10-19T16:37:50.517541Z"
    },
    "papermill": {
     "duration": 0.09194,
     "end_time": "2023-10-19T16:37:50.520738",
     "exception": false,
     "start_time": "2023-10-19T16:37:50.428798",
     "status": "completed"
    },
    "tags": []
   },
   "outputs": [],
   "source": [
    "pred = model.test(testset)\n",
    "pred.sort(key=lambda x: x.est, reverse=True)\n",
    "\n",
    "cb = pd.DataFrame.from_records(pred)\n",
    "cb.drop(cb.columns[[0, 3, 4]],axis = 1, inplace=True)\n",
    "cb.rename(columns = {'1':'item_id'}, inplace = True)\n",
    "cb.columns = ['item_id', 'rating']"
   ]
  },
  {
   "cell_type": "code",
   "execution_count": 21,
   "id": "8c7f5b4e",
   "metadata": {
    "execution": {
     "iopub.execute_input": "2023-10-19T16:37:50.545538Z",
     "iopub.status.busy": "2023-10-19T16:37:50.545172Z",
     "iopub.status.idle": "2023-10-19T16:37:50.557609Z",
     "shell.execute_reply": "2023-10-19T16:37:50.556729Z"
    },
    "papermill": {
     "duration": 0.027806,
     "end_time": "2023-10-19T16:37:50.559615",
     "exception": false,
     "start_time": "2023-10-19T16:37:50.531809",
     "status": "completed"
    },
    "tags": []
   },
   "outputs": [
    {
     "data": {
      "text/html": [
       "<div>\n",
       "<style scoped>\n",
       "    .dataframe tbody tr th:only-of-type {\n",
       "        vertical-align: middle;\n",
       "    }\n",
       "\n",
       "    .dataframe tbody tr th {\n",
       "        vertical-align: top;\n",
       "    }\n",
       "\n",
       "    .dataframe thead th {\n",
       "        text-align: right;\n",
       "    }\n",
       "</style>\n",
       "<table border=\"1\" class=\"dataframe\">\n",
       "  <thead>\n",
       "    <tr style=\"text-align: right;\">\n",
       "      <th></th>\n",
       "      <th>item_id</th>\n",
       "      <th>rating</th>\n",
       "    </tr>\n",
       "  </thead>\n",
       "  <tbody>\n",
       "    <tr>\n",
       "      <th>0</th>\n",
       "      <td>8381866440</td>\n",
       "      <td>5.0</td>\n",
       "    </tr>\n",
       "    <tr>\n",
       "      <th>1</th>\n",
       "      <td>8381866440</td>\n",
       "      <td>3.0</td>\n",
       "    </tr>\n",
       "    <tr>\n",
       "      <th>2</th>\n",
       "      <td>8381866440</td>\n",
       "      <td>5.0</td>\n",
       "    </tr>\n",
       "    <tr>\n",
       "      <th>3</th>\n",
       "      <td>8381866440</td>\n",
       "      <td>5.0</td>\n",
       "    </tr>\n",
       "    <tr>\n",
       "      <th>4</th>\n",
       "      <td>8381866440</td>\n",
       "      <td>1.0</td>\n",
       "    </tr>\n",
       "    <tr>\n",
       "      <th>...</th>\n",
       "      <td>...</td>\n",
       "      <td>...</td>\n",
       "    </tr>\n",
       "    <tr>\n",
       "      <th>9214</th>\n",
       "      <td>9617457283</td>\n",
       "      <td>3.0</td>\n",
       "    </tr>\n",
       "    <tr>\n",
       "      <th>9215</th>\n",
       "      <td>9617457283</td>\n",
       "      <td>2.0</td>\n",
       "    </tr>\n",
       "    <tr>\n",
       "      <th>9216</th>\n",
       "      <td>7347397974</td>\n",
       "      <td>1.0</td>\n",
       "    </tr>\n",
       "    <tr>\n",
       "      <th>9217</th>\n",
       "      <td>7347397974</td>\n",
       "      <td>1.0</td>\n",
       "    </tr>\n",
       "    <tr>\n",
       "      <th>9218</th>\n",
       "      <td>7347397974</td>\n",
       "      <td>2.0</td>\n",
       "    </tr>\n",
       "  </tbody>\n",
       "</table>\n",
       "<p>9219 rows × 2 columns</p>\n",
       "</div>"
      ],
      "text/plain": [
       "         item_id  rating\n",
       "0     8381866440     5.0\n",
       "1     8381866440     3.0\n",
       "2     8381866440     5.0\n",
       "3     8381866440     5.0\n",
       "4     8381866440     1.0\n",
       "...          ...     ...\n",
       "9214  9617457283     3.0\n",
       "9215  9617457283     2.0\n",
       "9216  7347397974     1.0\n",
       "9217  7347397974     1.0\n",
       "9218  7347397974     2.0\n",
       "\n",
       "[9219 rows x 2 columns]"
      ]
     },
     "execution_count": 21,
     "metadata": {},
     "output_type": "execute_result"
    }
   ],
   "source": [
    "cb"
   ]
  },
  {
   "cell_type": "code",
   "execution_count": 22,
   "id": "f6826631",
   "metadata": {
    "execution": {
     "iopub.execute_input": "2023-10-19T16:37:50.583481Z",
     "iopub.status.busy": "2023-10-19T16:37:50.583087Z",
     "iopub.status.idle": "2023-10-19T16:37:50.602981Z",
     "shell.execute_reply": "2023-10-19T16:37:50.601640Z"
    },
    "papermill": {
     "duration": 0.034526,
     "end_time": "2023-10-19T16:37:50.605081",
     "exception": false,
     "start_time": "2023-10-19T16:37:50.570555",
     "status": "completed"
    },
    "tags": []
   },
   "outputs": [
    {
     "name": "stdout",
     "output_type": "stream",
     "text": [
      "RMSE: 1.4080\n",
      "MAE:  1.1514\n"
     ]
    }
   ],
   "source": [
    "from surprise import accuracy\n",
    "rmse1 = accuracy.rmse(pred)\n",
    "mae1 = accuracy.mae(pred)"
   ]
  },
  {
   "cell_type": "markdown",
   "id": "861ef74d",
   "metadata": {
    "papermill": {
     "duration": 0.010632,
     "end_time": "2023-10-19T16:37:50.626867",
     "exception": false,
     "start_time": "2023-10-19T16:37:50.616235",
     "status": "completed"
    },
    "tags": []
   },
   "source": [
    "**Finding recommendations**"
   ]
  },
  {
   "cell_type": "code",
   "execution_count": 23,
   "id": "796180bf",
   "metadata": {
    "execution": {
     "iopub.execute_input": "2023-10-19T16:37:50.650829Z",
     "iopub.status.busy": "2023-10-19T16:37:50.649883Z",
     "iopub.status.idle": "2023-10-19T16:37:51.833741Z",
     "shell.execute_reply": "2023-10-19T16:37:51.832573Z"
    },
    "papermill": {
     "duration": 1.198099,
     "end_time": "2023-10-19T16:37:51.835968",
     "exception": false,
     "start_time": "2023-10-19T16:37:50.637869",
     "status": "completed"
    },
    "tags": []
   },
   "outputs": [
    {
     "data": {
      "text/plain": [
       "<surprise.prediction_algorithms.matrix_factorization.SVD at 0x7ed971662ce0>"
      ]
     },
     "execution_count": 23,
     "metadata": {},
     "output_type": "execute_result"
    }
   ],
   "source": [
    "train_set = data.build_full_trainset()\n",
    "model.fit(train_set)"
   ]
  },
  {
   "cell_type": "code",
   "execution_count": 24,
   "id": "330063cf",
   "metadata": {
    "execution": {
     "iopub.execute_input": "2023-10-19T16:37:51.866378Z",
     "iopub.status.busy": "2023-10-19T16:37:51.866005Z",
     "iopub.status.idle": "2023-10-19T16:37:52.014871Z",
     "shell.execute_reply": "2023-10-19T16:37:52.013805Z"
    },
    "papermill": {
     "duration": 0.168412,
     "end_time": "2023-10-19T16:37:52.017306",
     "exception": false,
     "start_time": "2023-10-19T16:37:51.848894",
     "status": "completed"
    },
    "tags": []
   },
   "outputs": [
    {
     "data": {
      "text/html": [
       "<div>\n",
       "<style scoped>\n",
       "    .dataframe tbody tr th:only-of-type {\n",
       "        vertical-align: middle;\n",
       "    }\n",
       "\n",
       "    .dataframe tbody tr th {\n",
       "        vertical-align: top;\n",
       "    }\n",
       "\n",
       "    .dataframe thead th {\n",
       "        text-align: right;\n",
       "    }\n",
       "</style>\n",
       "<table border=\"1\" class=\"dataframe\">\n",
       "  <thead>\n",
       "    <tr style=\"text-align: right;\">\n",
       "      <th></th>\n",
       "      <th>item_id</th>\n",
       "      <th>rating</th>\n",
       "    </tr>\n",
       "  </thead>\n",
       "  <tbody>\n",
       "    <tr>\n",
       "      <th>0</th>\n",
       "      <td>9684468121</td>\n",
       "      <td>4.045845</td>\n",
       "    </tr>\n",
       "    <tr>\n",
       "      <th>1</th>\n",
       "      <td>1409967169</td>\n",
       "      <td>4.045845</td>\n",
       "    </tr>\n",
       "    <tr>\n",
       "      <th>2</th>\n",
       "      <td>8340696149</td>\n",
       "      <td>4.045845</td>\n",
       "    </tr>\n",
       "    <tr>\n",
       "      <th>3</th>\n",
       "      <td>9569002861</td>\n",
       "      <td>4.045845</td>\n",
       "    </tr>\n",
       "    <tr>\n",
       "      <th>4</th>\n",
       "      <td>2585246229</td>\n",
       "      <td>4.045845</td>\n",
       "    </tr>\n",
       "  </tbody>\n",
       "</table>\n",
       "</div>"
      ],
      "text/plain": [
       "      item_id    rating\n",
       "0  9684468121  4.045845\n",
       "1  1409967169  4.045845\n",
       "2  8340696149  4.045845\n",
       "3  9569002861  4.045845\n",
       "4  2585246229  4.045845"
      ]
     },
     "execution_count": 24,
     "metadata": {},
     "output_type": "execute_result"
    }
   ],
   "source": [
    "uid = 'A2F2J3J2ALMM2A'\n",
    "items = df['item_id'].unique()\n",
    "arr = []\n",
    "for item in items:\n",
    "    iid = str(item)\n",
    "    arr.append(model.predict(uid, iid))\n",
    "predictions = pd.DataFrame.from_records(arr)\n",
    "predictions.drop(predictions.columns[[0, 2, 4]],axis = 1, inplace=True)\n",
    "predictions.columns = ['item_id', 'rating']\n",
    "predictions.head(5)"
   ]
  },
  {
   "cell_type": "markdown",
   "id": "c2f32a2f",
   "metadata": {
    "papermill": {
     "duration": 0.011476,
     "end_time": "2023-10-19T16:37:52.045032",
     "exception": false,
     "start_time": "2023-10-19T16:37:52.033556",
     "status": "completed"
    },
    "tags": []
   },
   "source": [
    "# **Content Based Filtering**"
   ]
  },
  {
   "cell_type": "code",
   "execution_count": 25,
   "id": "85a0498f",
   "metadata": {
    "execution": {
     "iopub.execute_input": "2023-10-19T16:37:52.071092Z",
     "iopub.status.busy": "2023-10-19T16:37:52.070057Z",
     "iopub.status.idle": "2023-10-19T16:37:52.091187Z",
     "shell.execute_reply": "2023-10-19T16:37:52.090256Z"
    },
    "papermill": {
     "duration": 0.03681,
     "end_time": "2023-10-19T16:37:52.093692",
     "exception": false,
     "start_time": "2023-10-19T16:37:52.056882",
     "status": "completed"
    },
    "tags": []
   },
   "outputs": [],
   "source": [
    "from sklearn.feature_extraction.text import TfidfVectorizer\n",
    "from sklearn.metrics.pairwise import linear_kernel"
   ]
  },
  {
   "cell_type": "code",
   "execution_count": 26,
   "id": "1f1e4814",
   "metadata": {
    "execution": {
     "iopub.execute_input": "2023-10-19T16:37:52.119265Z",
     "iopub.status.busy": "2023-10-19T16:37:52.118482Z",
     "iopub.status.idle": "2023-10-19T16:37:52.142592Z",
     "shell.execute_reply": "2023-10-19T16:37:52.141352Z"
    },
    "papermill": {
     "duration": 0.039761,
     "end_time": "2023-10-19T16:37:52.145183",
     "exception": false,
     "start_time": "2023-10-19T16:37:52.105422",
     "status": "completed"
    },
    "tags": []
   },
   "outputs": [],
   "source": [
    "unique_titles = pd.DataFrame(df['title'].unique())"
   ]
  },
  {
   "cell_type": "code",
   "execution_count": 27,
   "id": "13100486",
   "metadata": {
    "execution": {
     "iopub.execute_input": "2023-10-19T16:37:52.171863Z",
     "iopub.status.busy": "2023-10-19T16:37:52.171511Z",
     "iopub.status.idle": "2023-10-19T16:37:52.182767Z",
     "shell.execute_reply": "2023-10-19T16:37:52.181560Z"
    },
    "papermill": {
     "duration": 0.0263,
     "end_time": "2023-10-19T16:37:52.185096",
     "exception": false,
     "start_time": "2023-10-19T16:37:52.158796",
     "status": "completed"
    },
    "tags": []
   },
   "outputs": [
    {
     "data": {
      "text/html": [
       "<div>\n",
       "<style scoped>\n",
       "    .dataframe tbody tr th:only-of-type {\n",
       "        vertical-align: middle;\n",
       "    }\n",
       "\n",
       "    .dataframe tbody tr th {\n",
       "        vertical-align: top;\n",
       "    }\n",
       "\n",
       "    .dataframe thead th {\n",
       "        text-align: right;\n",
       "    }\n",
       "</style>\n",
       "<table border=\"1\" class=\"dataframe\">\n",
       "  <thead>\n",
       "    <tr style=\"text-align: right;\">\n",
       "      <th></th>\n",
       "      <th>title</th>\n",
       "    </tr>\n",
       "  </thead>\n",
       "  <tbody>\n",
       "    <tr>\n",
       "      <th>0</th>\n",
       "      <td>PowerA DualShock 4 Charging Station for PlaySt...</td>\n",
       "    </tr>\n",
       "    <tr>\n",
       "      <th>1</th>\n",
       "      <td>JE206 Men Women Faux Spinal Gemstone Ring, Sil...</td>\n",
       "    </tr>\n",
       "    <tr>\n",
       "      <th>2</th>\n",
       "      <td>The Witcher 2: Assassins Of Kings Enhanced Edi...</td>\n",
       "    </tr>\n",
       "    <tr>\n",
       "      <th>3</th>\n",
       "      <td>MVP Baseball 2004 - Gamecube</td>\n",
       "    </tr>\n",
       "    <tr>\n",
       "      <th>4</th>\n",
       "      <td>Resident Evil Deadly Silence - Nintendo DS</td>\n",
       "    </tr>\n",
       "    <tr>\n",
       "      <th>...</th>\n",
       "      <td>...</td>\n",
       "    </tr>\n",
       "    <tr>\n",
       "      <th>21154</th>\n",
       "      <td>Fight Night Round 3 - Xbox 360</td>\n",
       "    </tr>\n",
       "    <tr>\n",
       "      <th>21155</th>\n",
       "      <td>Leegoal(TM) Punk Gothic Colorful Long Arm Warm...</td>\n",
       "    </tr>\n",
       "    <tr>\n",
       "      <th>21156</th>\n",
       "      <td>Favebridal Women's Long Formal Mermaid Gold La...</td>\n",
       "    </tr>\n",
       "    <tr>\n",
       "      <th>21157</th>\n",
       "      <td>History Channel: Civil War: A Nation Divided -...</td>\n",
       "    </tr>\n",
       "    <tr>\n",
       "      <th>21158</th>\n",
       "      <td>HORI Stereo Chat Headset 4 for PlayStation 4</td>\n",
       "    </tr>\n",
       "  </tbody>\n",
       "</table>\n",
       "<p>21159 rows × 1 columns</p>\n",
       "</div>"
      ],
      "text/plain": [
       "                                                   title\n",
       "0      PowerA DualShock 4 Charging Station for PlaySt...\n",
       "1      JE206 Men Women Faux Spinal Gemstone Ring, Sil...\n",
       "2      The Witcher 2: Assassins Of Kings Enhanced Edi...\n",
       "3                           MVP Baseball 2004 - Gamecube\n",
       "4             Resident Evil Deadly Silence - Nintendo DS\n",
       "...                                                  ...\n",
       "21154                     Fight Night Round 3 - Xbox 360\n",
       "21155  Leegoal(TM) Punk Gothic Colorful Long Arm Warm...\n",
       "21156  Favebridal Women's Long Formal Mermaid Gold La...\n",
       "21157  History Channel: Civil War: A Nation Divided -...\n",
       "21158       HORI Stereo Chat Headset 4 for PlayStation 4\n",
       "\n",
       "[21159 rows x 1 columns]"
      ]
     },
     "execution_count": 27,
     "metadata": {},
     "output_type": "execute_result"
    }
   ],
   "source": [
    "unique_titles.columns = ['title']\n",
    "unique_titles"
   ]
  },
  {
   "cell_type": "code",
   "execution_count": 28,
   "id": "18e6758c",
   "metadata": {
    "execution": {
     "iopub.execute_input": "2023-10-19T16:37:52.209848Z",
     "iopub.status.busy": "2023-10-19T16:37:52.209500Z",
     "iopub.status.idle": "2023-10-19T16:38:00.227910Z",
     "shell.execute_reply": "2023-10-19T16:38:00.226808Z"
    },
    "papermill": {
     "duration": 8.033608,
     "end_time": "2023-10-19T16:38:00.230500",
     "exception": false,
     "start_time": "2023-10-19T16:37:52.196892",
     "status": "completed"
    },
    "tags": []
   },
   "outputs": [],
   "source": [
    "tfidf_vectorizer = TfidfVectorizer()\n",
    "tfidf_matrix = tfidf_vectorizer.fit_transform(unique_titles['title'])\n",
    "cosine_sim = linear_kernel(tfidf_matrix, tfidf_matrix)"
   ]
  },
  {
   "cell_type": "code",
   "execution_count": 29,
   "id": "30d94309",
   "metadata": {
    "execution": {
     "iopub.execute_input": "2023-10-19T16:38:00.255284Z",
     "iopub.status.busy": "2023-10-19T16:38:00.254689Z",
     "iopub.status.idle": "2023-10-19T16:38:00.272185Z",
     "shell.execute_reply": "2023-10-19T16:38:00.271209Z"
    },
    "papermill": {
     "duration": 0.032464,
     "end_time": "2023-10-19T16:38:00.274450",
     "exception": false,
     "start_time": "2023-10-19T16:38:00.241986",
     "status": "completed"
    },
    "tags": []
   },
   "outputs": [],
   "source": [
    "title = df.loc[df['user_id'] == 'A2F2J3J2ALMM2A', 'title'].values[0]\n",
    "idx = unique_titles.index[unique_titles['title'] == title][0]\n",
    "idx\n",
    "score_series = pd.DataFrame(cosine_sim[idx])\n",
    "score_series\n",
    "score_series.columns = ['rating']\n",
    "unique_items = df['item_id'].unique()\n",
    "score_series['item_id'] = unique_items\n",
    "score_series.sort_values(by='rating', ascending=False, inplace=True)"
   ]
  },
  {
   "cell_type": "code",
   "execution_count": 30,
   "id": "adbc56e1",
   "metadata": {
    "execution": {
     "iopub.execute_input": "2023-10-19T16:38:00.299909Z",
     "iopub.status.busy": "2023-10-19T16:38:00.299277Z",
     "iopub.status.idle": "2023-10-19T16:38:00.308420Z",
     "shell.execute_reply": "2023-10-19T16:38:00.307413Z"
    },
    "papermill": {
     "duration": 0.023882,
     "end_time": "2023-10-19T16:38:00.310401",
     "exception": false,
     "start_time": "2023-10-19T16:38:00.286519",
     "status": "completed"
    },
    "tags": []
   },
   "outputs": [
    {
     "data": {
      "text/html": [
       "<div>\n",
       "<style scoped>\n",
       "    .dataframe tbody tr th:only-of-type {\n",
       "        vertical-align: middle;\n",
       "    }\n",
       "\n",
       "    .dataframe tbody tr th {\n",
       "        vertical-align: top;\n",
       "    }\n",
       "\n",
       "    .dataframe thead th {\n",
       "        text-align: right;\n",
       "    }\n",
       "</style>\n",
       "<table border=\"1\" class=\"dataframe\">\n",
       "  <thead>\n",
       "    <tr style=\"text-align: right;\">\n",
       "      <th></th>\n",
       "      <th>rating</th>\n",
       "      <th>item_id</th>\n",
       "    </tr>\n",
       "  </thead>\n",
       "  <tbody>\n",
       "    <tr>\n",
       "      <th>4017</th>\n",
       "      <td>1.000000</td>\n",
       "      <td>9761228353</td>\n",
       "    </tr>\n",
       "    <tr>\n",
       "      <th>16744</th>\n",
       "      <td>0.366486</td>\n",
       "      <td>9864882471</td>\n",
       "    </tr>\n",
       "    <tr>\n",
       "      <th>12683</th>\n",
       "      <td>0.364229</td>\n",
       "      <td>4725582703</td>\n",
       "    </tr>\n",
       "    <tr>\n",
       "      <th>9372</th>\n",
       "      <td>0.329617</td>\n",
       "      <td>1823946570</td>\n",
       "    </tr>\n",
       "    <tr>\n",
       "      <th>6608</th>\n",
       "      <td>0.329166</td>\n",
       "      <td>6490323890</td>\n",
       "    </tr>\n",
       "  </tbody>\n",
       "</table>\n",
       "</div>"
      ],
      "text/plain": [
       "         rating     item_id\n",
       "4017   1.000000  9761228353\n",
       "16744  0.366486  9864882471\n",
       "12683  0.364229  4725582703\n",
       "9372   0.329617  1823946570\n",
       "6608   0.329166  6490323890"
      ]
     },
     "execution_count": 30,
     "metadata": {},
     "output_type": "execute_result"
    }
   ],
   "source": [
    "score_series.head()"
   ]
  },
  {
   "cell_type": "code",
   "execution_count": 31,
   "id": "3120972f",
   "metadata": {
    "execution": {
     "iopub.execute_input": "2023-10-19T16:38:00.335292Z",
     "iopub.status.busy": "2023-10-19T16:38:00.334911Z",
     "iopub.status.idle": "2023-10-19T16:38:00.341575Z",
     "shell.execute_reply": "2023-10-19T16:38:00.340397Z"
    },
    "papermill": {
     "duration": 0.021724,
     "end_time": "2023-10-19T16:38:00.343694",
     "exception": false,
     "start_time": "2023-10-19T16:38:00.321970",
     "status": "completed"
    },
    "tags": []
   },
   "outputs": [],
   "source": [
    "score_series['rating'] = score_series['rating'] * [5]"
   ]
  },
  {
   "cell_type": "code",
   "execution_count": 32,
   "id": "ac4abb82",
   "metadata": {
    "execution": {
     "iopub.execute_input": "2023-10-19T16:38:00.369004Z",
     "iopub.status.busy": "2023-10-19T16:38:00.368359Z",
     "iopub.status.idle": "2023-10-19T16:38:00.377692Z",
     "shell.execute_reply": "2023-10-19T16:38:00.376606Z"
    },
    "papermill": {
     "duration": 0.024759,
     "end_time": "2023-10-19T16:38:00.380215",
     "exception": false,
     "start_time": "2023-10-19T16:38:00.355456",
     "status": "completed"
    },
    "tags": []
   },
   "outputs": [],
   "source": [
    "item = df.loc[df['user_id'] == 'A2F2J3J2ALMM2A', 'item_id'].values[0]"
   ]
  },
  {
   "cell_type": "markdown",
   "id": "70e679d0",
   "metadata": {
    "papermill": {
     "duration": 0.012004,
     "end_time": "2023-10-19T16:38:00.403976",
     "exception": false,
     "start_time": "2023-10-19T16:38:00.391972",
     "status": "completed"
    },
    "tags": []
   },
   "source": [
    "# **Getting new recommendations**"
   ]
  },
  {
   "cell_type": "code",
   "execution_count": 33,
   "id": "f3cf3bd7",
   "metadata": {
    "execution": {
     "iopub.execute_input": "2023-10-19T16:38:00.429413Z",
     "iopub.status.busy": "2023-10-19T16:38:00.429044Z",
     "iopub.status.idle": "2023-10-19T16:38:00.437246Z",
     "shell.execute_reply": "2023-10-19T16:38:00.436077Z"
    },
    "papermill": {
     "duration": 0.023714,
     "end_time": "2023-10-19T16:38:00.439561",
     "exception": false,
     "start_time": "2023-10-19T16:38:00.415847",
     "status": "completed"
    },
    "tags": []
   },
   "outputs": [],
   "source": [
    "predictions['item_id'] = predictions['item_id'].astype('int64')"
   ]
  },
  {
   "cell_type": "code",
   "execution_count": 34,
   "id": "a442ce60",
   "metadata": {
    "execution": {
     "iopub.execute_input": "2023-10-19T16:38:00.464661Z",
     "iopub.status.busy": "2023-10-19T16:38:00.464238Z",
     "iopub.status.idle": "2023-10-19T16:38:00.485830Z",
     "shell.execute_reply": "2023-10-19T16:38:00.484767Z"
    },
    "papermill": {
     "duration": 0.036756,
     "end_time": "2023-10-19T16:38:00.488011",
     "exception": false,
     "start_time": "2023-10-19T16:38:00.451255",
     "status": "completed"
    },
    "tags": []
   },
   "outputs": [],
   "source": [
    "hybrid_rec = item_ratings.merge(predictions ,on='item_id').merge(score_series,on='item_id')"
   ]
  },
  {
   "cell_type": "code",
   "execution_count": 35,
   "id": "269144b0",
   "metadata": {
    "execution": {
     "iopub.execute_input": "2023-10-19T16:38:00.513775Z",
     "iopub.status.busy": "2023-10-19T16:38:00.512503Z",
     "iopub.status.idle": "2023-10-19T16:38:00.526753Z",
     "shell.execute_reply": "2023-10-19T16:38:00.525576Z"
    },
    "papermill": {
     "duration": 0.029251,
     "end_time": "2023-10-19T16:38:00.528930",
     "exception": false,
     "start_time": "2023-10-19T16:38:00.499679",
     "status": "completed"
    },
    "tags": []
   },
   "outputs": [
    {
     "data": {
      "text/html": [
       "<div>\n",
       "<style scoped>\n",
       "    .dataframe tbody tr th:only-of-type {\n",
       "        vertical-align: middle;\n",
       "    }\n",
       "\n",
       "    .dataframe tbody tr th {\n",
       "        vertical-align: top;\n",
       "    }\n",
       "\n",
       "    .dataframe thead th {\n",
       "        text-align: right;\n",
       "    }\n",
       "</style>\n",
       "<table border=\"1\" class=\"dataframe\">\n",
       "  <thead>\n",
       "    <tr style=\"text-align: right;\">\n",
       "      <th></th>\n",
       "      <th>rating_x</th>\n",
       "      <th>item_id</th>\n",
       "      <th>rating_y</th>\n",
       "      <th>rating</th>\n",
       "    </tr>\n",
       "  </thead>\n",
       "  <tbody>\n",
       "    <tr>\n",
       "      <th>0</th>\n",
       "      <td>4.5</td>\n",
       "      <td>483220</td>\n",
       "      <td>4.045845</td>\n",
       "      <td>0.0</td>\n",
       "    </tr>\n",
       "    <tr>\n",
       "      <th>1</th>\n",
       "      <td>5.0</td>\n",
       "      <td>625290</td>\n",
       "      <td>4.045845</td>\n",
       "      <td>0.0</td>\n",
       "    </tr>\n",
       "    <tr>\n",
       "      <th>2</th>\n",
       "      <td>4.0</td>\n",
       "      <td>864109</td>\n",
       "      <td>4.045845</td>\n",
       "      <td>0.0</td>\n",
       "    </tr>\n",
       "    <tr>\n",
       "      <th>3</th>\n",
       "      <td>2.0</td>\n",
       "      <td>924352</td>\n",
       "      <td>4.045845</td>\n",
       "      <td>0.0</td>\n",
       "    </tr>\n",
       "    <tr>\n",
       "      <th>4</th>\n",
       "      <td>3.0</td>\n",
       "      <td>1235031</td>\n",
       "      <td>4.045845</td>\n",
       "      <td>0.0</td>\n",
       "    </tr>\n",
       "    <tr>\n",
       "      <th>...</th>\n",
       "      <td>...</td>\n",
       "      <td>...</td>\n",
       "      <td>...</td>\n",
       "      <td>...</td>\n",
       "    </tr>\n",
       "    <tr>\n",
       "      <th>21154</th>\n",
       "      <td>5.0</td>\n",
       "      <td>9997270519</td>\n",
       "      <td>4.045845</td>\n",
       "      <td>0.0</td>\n",
       "    </tr>\n",
       "    <tr>\n",
       "      <th>21155</th>\n",
       "      <td>5.0</td>\n",
       "      <td>9997749516</td>\n",
       "      <td>4.045845</td>\n",
       "      <td>0.0</td>\n",
       "    </tr>\n",
       "    <tr>\n",
       "      <th>21156</th>\n",
       "      <td>5.0</td>\n",
       "      <td>9998530680</td>\n",
       "      <td>4.045845</td>\n",
       "      <td>0.0</td>\n",
       "    </tr>\n",
       "    <tr>\n",
       "      <th>21157</th>\n",
       "      <td>5.0</td>\n",
       "      <td>9998969939</td>\n",
       "      <td>4.045845</td>\n",
       "      <td>0.0</td>\n",
       "    </tr>\n",
       "    <tr>\n",
       "      <th>21158</th>\n",
       "      <td>5.0</td>\n",
       "      <td>9999156070</td>\n",
       "      <td>4.045845</td>\n",
       "      <td>0.0</td>\n",
       "    </tr>\n",
       "  </tbody>\n",
       "</table>\n",
       "<p>21159 rows × 4 columns</p>\n",
       "</div>"
      ],
      "text/plain": [
       "       rating_x     item_id  rating_y  rating\n",
       "0           4.5      483220  4.045845     0.0\n",
       "1           5.0      625290  4.045845     0.0\n",
       "2           4.0      864109  4.045845     0.0\n",
       "3           2.0      924352  4.045845     0.0\n",
       "4           3.0     1235031  4.045845     0.0\n",
       "...         ...         ...       ...     ...\n",
       "21154       5.0  9997270519  4.045845     0.0\n",
       "21155       5.0  9997749516  4.045845     0.0\n",
       "21156       5.0  9998530680  4.045845     0.0\n",
       "21157       5.0  9998969939  4.045845     0.0\n",
       "21158       5.0  9999156070  4.045845     0.0\n",
       "\n",
       "[21159 rows x 4 columns]"
      ]
     },
     "execution_count": 35,
     "metadata": {},
     "output_type": "execute_result"
    }
   ],
   "source": [
    "hybrid_rec"
   ]
  },
  {
   "cell_type": "code",
   "execution_count": 36,
   "id": "841e8ec5",
   "metadata": {
    "execution": {
     "iopub.execute_input": "2023-10-19T16:38:00.554342Z",
     "iopub.status.busy": "2023-10-19T16:38:00.553978Z",
     "iopub.status.idle": "2023-10-19T16:38:00.561451Z",
     "shell.execute_reply": "2023-10-19T16:38:00.560509Z"
    },
    "papermill": {
     "duration": 0.022599,
     "end_time": "2023-10-19T16:38:00.563650",
     "exception": false,
     "start_time": "2023-10-19T16:38:00.541051",
     "status": "completed"
    },
    "tags": []
   },
   "outputs": [],
   "source": [
    "hybrid_rec['r'] = hybrid_rec['rating']*0.2 + hybrid_rec['rating_x']*0.4 + hybrid_rec['rating_y']*0.4"
   ]
  },
  {
   "cell_type": "code",
   "execution_count": 37,
   "id": "63227b96",
   "metadata": {
    "execution": {
     "iopub.execute_input": "2023-10-19T16:38:00.590663Z",
     "iopub.status.busy": "2023-10-19T16:38:00.590208Z",
     "iopub.status.idle": "2023-10-19T16:38:00.595811Z",
     "shell.execute_reply": "2023-10-19T16:38:00.594967Z"
    },
    "papermill": {
     "duration": 0.020976,
     "end_time": "2023-10-19T16:38:00.597572",
     "exception": false,
     "start_time": "2023-10-19T16:38:00.576596",
     "status": "completed"
    },
    "tags": []
   },
   "outputs": [],
   "source": [
    "hybrid_rec = hybrid_rec[['item_id', 'r']]"
   ]
  },
  {
   "cell_type": "code",
   "execution_count": 38,
   "id": "b78f9ff2",
   "metadata": {
    "execution": {
     "iopub.execute_input": "2023-10-19T16:38:00.625240Z",
     "iopub.status.busy": "2023-10-19T16:38:00.624166Z",
     "iopub.status.idle": "2023-10-19T16:38:00.634827Z",
     "shell.execute_reply": "2023-10-19T16:38:00.633649Z"
    },
    "papermill": {
     "duration": 0.026958,
     "end_time": "2023-10-19T16:38:00.637177",
     "exception": false,
     "start_time": "2023-10-19T16:38:00.610219",
     "status": "completed"
    },
    "tags": []
   },
   "outputs": [
    {
     "data": {
      "text/plain": [
       "20626    9761228353\n",
       "20872    9864882471\n",
       "3888     1823946570\n",
       "13746    6490323890\n",
       "12495    5902636591\n",
       "Name: item_id, dtype: int64"
      ]
     },
     "execution_count": 38,
     "metadata": {},
     "output_type": "execute_result"
    }
   ],
   "source": [
    "hybrid_rec.sort_values(by='r', ascending=False)['item_id'].head()"
   ]
  },
  {
   "cell_type": "markdown",
   "id": "e0061ded",
   "metadata": {
    "papermill": {
     "duration": 0.011812,
     "end_time": "2023-10-19T16:38:00.661059",
     "exception": false,
     "start_time": "2023-10-19T16:38:00.649247",
     "status": "completed"
    },
    "tags": []
   },
   "source": [
    "# **Comparing the performance of the approaches**"
   ]
  },
  {
   "cell_type": "code",
   "execution_count": 39,
   "id": "542fb7aa",
   "metadata": {
    "execution": {
     "iopub.execute_input": "2023-10-19T16:38:00.688468Z",
     "iopub.status.busy": "2023-10-19T16:38:00.687760Z",
     "iopub.status.idle": "2023-10-19T16:38:00.693172Z",
     "shell.execute_reply": "2023-10-19T16:38:00.692272Z"
    },
    "papermill": {
     "duration": 0.021301,
     "end_time": "2023-10-19T16:38:00.695395",
     "exception": false,
     "start_time": "2023-10-19T16:38:00.674094",
     "status": "completed"
    },
    "tags": []
   },
   "outputs": [],
   "source": [
    "pbr = item_ratings.loc[item_ratings['item_id'] == item, 'rating'].values[0]"
   ]
  },
  {
   "cell_type": "code",
   "execution_count": 40,
   "id": "d665c096",
   "metadata": {
    "execution": {
     "iopub.execute_input": "2023-10-19T16:38:00.722506Z",
     "iopub.status.busy": "2023-10-19T16:38:00.722003Z",
     "iopub.status.idle": "2023-10-19T16:38:00.727951Z",
     "shell.execute_reply": "2023-10-19T16:38:00.726758Z"
    },
    "papermill": {
     "duration": 0.022013,
     "end_time": "2023-10-19T16:38:00.730182",
     "exception": false,
     "start_time": "2023-10-19T16:38:00.708169",
     "status": "completed"
    },
    "tags": []
   },
   "outputs": [],
   "source": [
    "i = np.where(predictions['item_id'].values == item)[0][0]\n",
    "cfr = predictions.at[predictions.index[i],'rating']"
   ]
  },
  {
   "cell_type": "code",
   "execution_count": 41,
   "id": "72edbc79",
   "metadata": {
    "execution": {
     "iopub.execute_input": "2023-10-19T16:38:00.757678Z",
     "iopub.status.busy": "2023-10-19T16:38:00.757244Z",
     "iopub.status.idle": "2023-10-19T16:38:00.763360Z",
     "shell.execute_reply": "2023-10-19T16:38:00.762267Z"
    },
    "papermill": {
     "duration": 0.022669,
     "end_time": "2023-10-19T16:38:00.765499",
     "exception": false,
     "start_time": "2023-10-19T16:38:00.742830",
     "status": "completed"
    },
    "tags": []
   },
   "outputs": [],
   "source": [
    "cbf = score_series.loc[score_series['item_id'] == item, 'rating'].values[0]"
   ]
  },
  {
   "cell_type": "code",
   "execution_count": 42,
   "id": "6d16030e",
   "metadata": {
    "execution": {
     "iopub.execute_input": "2023-10-19T16:38:00.793087Z",
     "iopub.status.busy": "2023-10-19T16:38:00.791806Z",
     "iopub.status.idle": "2023-10-19T16:38:00.796723Z",
     "shell.execute_reply": "2023-10-19T16:38:00.795693Z"
    },
    "papermill": {
     "duration": 0.02109,
     "end_time": "2023-10-19T16:38:00.798854",
     "exception": false,
     "start_time": "2023-10-19T16:38:00.777764",
     "status": "completed"
    },
    "tags": []
   },
   "outputs": [],
   "source": [
    "predicted = pbr * 0.2 + cfr * 0.4 + cbf * 0.4"
   ]
  },
  {
   "cell_type": "code",
   "execution_count": 43,
   "id": "7b81e9c7",
   "metadata": {
    "execution": {
     "iopub.execute_input": "2023-10-19T16:38:00.825497Z",
     "iopub.status.busy": "2023-10-19T16:38:00.824537Z",
     "iopub.status.idle": "2023-10-19T16:38:00.835809Z",
     "shell.execute_reply": "2023-10-19T16:38:00.834388Z"
    },
    "papermill": {
     "duration": 0.027746,
     "end_time": "2023-10-19T16:38:00.838510",
     "exception": false,
     "start_time": "2023-10-19T16:38:00.810764",
     "status": "completed"
    },
    "tags": []
   },
   "outputs": [],
   "source": [
    "actual = df.loc[df['user_id'] == 'A2F2J3J2ALMM2A', 'rating'].values[0]"
   ]
  },
  {
   "cell_type": "code",
   "execution_count": 44,
   "id": "5d0e7064",
   "metadata": {
    "execution": {
     "iopub.execute_input": "2023-10-19T16:38:00.865362Z",
     "iopub.status.busy": "2023-10-19T16:38:00.864709Z",
     "iopub.status.idle": "2023-10-19T16:38:00.871487Z",
     "shell.execute_reply": "2023-10-19T16:38:00.870235Z"
    },
    "papermill": {
     "duration": 0.022246,
     "end_time": "2023-10-19T16:38:00.873711",
     "exception": false,
     "start_time": "2023-10-19T16:38:00.851465",
     "status": "completed"
    },
    "tags": []
   },
   "outputs": [
    {
     "name": "stdout",
     "output_type": "stream",
     "text": [
      "rmse: 0.4217\n",
      "mae: 0.2217\n"
     ]
    }
   ],
   "source": [
    "import math\n",
    "def rmse(prediction, actual):\n",
    "    return math.sqrt((prediction-actual)**2)\n",
    "\n",
    "def mae(prediction, actual):\n",
    "    return abs(prediction-pbr)\n",
    "rmse_hybrid = round(rmse(predicted, actual), 4)\n",
    "mae_hybrid = round(mae(predicted, actual), 4)\n",
    "print(f\"rmse: {rmse_hybrid}\")\n",
    "print(f\"mae: {mae_hybrid}\")"
   ]
  },
  {
   "cell_type": "code",
   "execution_count": 45,
   "id": "3ff5d92c",
   "metadata": {
    "execution": {
     "iopub.execute_input": "2023-10-19T16:38:00.901112Z",
     "iopub.status.busy": "2023-10-19T16:38:00.899907Z",
     "iopub.status.idle": "2023-10-19T16:38:00.911386Z",
     "shell.execute_reply": "2023-10-19T16:38:00.910150Z"
    },
    "papermill": {
     "duration": 0.027301,
     "end_time": "2023-10-19T16:38:00.913453",
     "exception": false,
     "start_time": "2023-10-19T16:38:00.886152",
     "status": "completed"
    },
    "tags": []
   },
   "outputs": [
    {
     "data": {
      "text/html": [
       "<div>\n",
       "<style scoped>\n",
       "    .dataframe tbody tr th:only-of-type {\n",
       "        vertical-align: middle;\n",
       "    }\n",
       "\n",
       "    .dataframe tbody tr th {\n",
       "        vertical-align: top;\n",
       "    }\n",
       "\n",
       "    .dataframe thead th {\n",
       "        text-align: right;\n",
       "    }\n",
       "</style>\n",
       "<table border=\"1\" class=\"dataframe\">\n",
       "  <thead>\n",
       "    <tr style=\"text-align: right;\">\n",
       "      <th></th>\n",
       "      <th>existing</th>\n",
       "      <th>improved</th>\n",
       "    </tr>\n",
       "  </thead>\n",
       "  <tbody>\n",
       "    <tr>\n",
       "      <th>RMSE</th>\n",
       "      <td>1.4080</td>\n",
       "      <td>0.4217</td>\n",
       "    </tr>\n",
       "    <tr>\n",
       "      <th>MAE</th>\n",
       "      <td>1.1514</td>\n",
       "      <td>0.2217</td>\n",
       "    </tr>\n",
       "  </tbody>\n",
       "</table>\n",
       "</div>"
      ],
      "text/plain": [
       "      existing  improved\n",
       "RMSE    1.4080    0.4217\n",
       "MAE     1.1514    0.2217"
      ]
     },
     "execution_count": 45,
     "metadata": {},
     "output_type": "execute_result"
    }
   ],
   "source": [
    "d = [[round(rmse1, 4), rmse_hybrid], [round(mae1, 4), mae_hybrid]]\n",
    "comp = pd.DataFrame(d, columns=['existing', 'improved'], index=['RMSE', 'MAE'])\n",
    "comp"
   ]
  }
 ],
 "metadata": {
  "kernelspec": {
   "display_name": "Python 3",
   "language": "python",
   "name": "python3"
  },
  "language_info": {
   "codemirror_mode": {
    "name": "ipython",
    "version": 3
   },
   "file_extension": ".py",
   "mimetype": "text/x-python",
   "name": "python",
   "nbconvert_exporter": "python",
   "pygments_lexer": "ipython3",
   "version": "3.10.12"
  },
  "papermill": {
   "default_parameters": {},
   "duration": 19.844634,
   "end_time": "2023-10-19T16:38:02.048947",
   "environment_variables": {},
   "exception": null,
   "input_path": "__notebook__.ipynb",
   "output_path": "__notebook__.ipynb",
   "parameters": {},
   "start_time": "2023-10-19T16:37:42.204313",
   "version": "2.4.0"
  }
 },
 "nbformat": 4,
 "nbformat_minor": 5
}
